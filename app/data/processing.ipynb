{
 "cells": [
  {
   "cell_type": "code",
   "execution_count": 3,
   "metadata": {},
   "outputs": [],
   "source": [
    "import pandas as pd\n",
    "import numpy as np\n",
    "\n",
    "data = pd.read_excel(\"data.xlsx\")\n",
    "data.columns = [\"Estación\", \"Año\", \"Mes\", \"Media de temperatura máxima\", \"Media de temperatura mínima\",\n",
    "                \"Media de temperatura\", \"Media de humedad relativa\", \"Precipitación mensual\"]"
   ]
  },
  {
   "cell_type": "code",
   "execution_count": 4,
   "metadata": {},
   "outputs": [],
   "source": [
    "def split_data(data: pd.DataFrame) -> None:\n",
    "    trozos = np.array_split(data, len(data) / 12)\n",
    "    \n",
    "    if not valid(trozos):\n",
    "        return \n",
    "    \n",
    "    for i, trozo in enumerate(trozos):\n",
    "        nombre_archivo = f'{trozo.iloc[0, 0]}_{trozo.iloc[0, 1]}.csv'\n",
    "        trozo.to_csv(nombre_archivo, index=False)\n",
    "\n",
    "def valid(trozos: np.array) -> bool:\n",
    "    nombres = set() \n",
    "    for i, trozo in enumerate(trozos):\n",
    "        nombre_archivo = f'{trozo.iloc[0, 0]}_{trozo.iloc[0, 1]}.csv'\n",
    "    \n",
    "        if nombre_archivo in nombres:\n",
    "            return False\n",
    "    \n",
    "        nombres.add(nombre_archivo)\n",
    "    \n",
    "    return True\n",
    "\n",
    "split_data(data)"
   ]
  }
 ],
 "metadata": {
  "kernelspec": {
   "display_name": "Python 3",
   "language": "python",
   "name": "python3"
  },
  "language_info": {
   "codemirror_mode": {
    "name": "ipython",
    "version": 3
   },
   "file_extension": ".py",
   "mimetype": "text/x-python",
   "name": "python",
   "nbconvert_exporter": "python",
   "pygments_lexer": "ipython3",
   "version": "3.11.5"
  },
  "orig_nbformat": 4
 },
 "nbformat": 4,
 "nbformat_minor": 2
}
